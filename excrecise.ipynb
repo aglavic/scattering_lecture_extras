{
 "cells": [
  {
   "cell_type": "code",
   "execution_count": 1,
   "id": "8f4fa302-3d9a-40f6-a14e-1fcb7782d440",
   "metadata": {},
   "outputs": [],
   "source": [
    "%matplotlib inline\n",
    "from pylab import *"
   ]
  },
  {
   "cell_type": "markdown",
   "id": "2b5f6014-6213-467a-9bfa-2b2160d497fb",
   "metadata": {},
   "source": [
    "# Excercise 1:\n",
    "Imagine you just finished a polarized neutron reflectometry (PNR) experiment. The sample got mixed up so you don't know what was measured, only that it was a single layer deposited on a Silicon substrate.\n"
   ]
  },
  {
   "cell_type": "markdown",
   "id": "75d472fd-88f4-4265-8ac9-97bfae8eb139",
   "metadata": {},
   "source": [
    "## Load and inspect the dataset\n",
    "Use the ORSOpy package to read the measurement dataset and inspect it to understand what measurement was done and how to analyze it with GenX. Use the library reference manual https://orsopy.readthedocs.io/en/latest/ .\n",
    "\n",
    "Plot the dataset using matplotlib functions provided by pylab (see manual https://matplotlib.org/stable/api/pylab.html)."
   ]
  },
  {
   "cell_type": "code",
   "execution_count": 2,
   "id": "a2979e0a-07fd-4029-95e6-15e1902c6f8c",
   "metadata": {},
   "outputs": [],
   "source": [
    "from orsopy import fileio"
   ]
  },
  {
   "cell_type": "code",
   "execution_count": 3,
   "id": "97d12490-7c2c-44a1-b2cd-241011fe8f02",
   "metadata": {},
   "outputs": [],
   "source": [
    "# load the data file\n",
    "data = fileio.load_orso('unknown_data.ort')"
   ]
  },
  {
   "cell_type": "markdown",
   "id": "0de36e70-0cb7-4d4b-ac86-7823bab00c58",
   "metadata": {},
   "source": [
    "### inspect the header\n",
    "- use the data object to inspect the measurement headers, you can start with the representation of data\n",
    "- Where was the experiment done and at which instrument?\n",
    "- How many datasets exist?\n",
    "- What are the measured columns?\n",
    "- Where do you find the data of these columns?"
   ]
  },
  {
   "cell_type": "code",
   "execution_count": 4,
   "id": "5c6230c1-937b-451c-992b-c81f06249a41",
   "metadata": {},
   "outputs": [],
   "source": [
    "# your code here"
   ]
  },
  {
   "cell_type": "markdown",
   "id": "f8b4525d-1abd-4c3d-81a5-c03f7713465a",
   "metadata": {},
   "source": [
    "### Plot the datasets together using logarithmic y-scale\n",
    "- If there is an error provided for a column, plot associated errorbars\n",
    "- Add a legend with the dataset description and proper x-/y-axes with units\n",
    "- Save the plot to an image file in PNG format"
   ]
  },
  {
   "cell_type": "code",
   "execution_count": 5,
   "id": "7ed44f44-9f50-4549-9248-b84f05cce11b",
   "metadata": {},
   "outputs": [],
   "source": [
    "# your code here"
   ]
  },
  {
   "cell_type": "markdown",
   "id": "7b7aab7d-eab4-48d2-adf1-9497004faf4e",
   "metadata": {},
   "source": [
    "## Model the dataset\n",
    "- Use the GenX program to read the dataset.\n",
    "- Use the [SLD database](https://slddb.esss.dk/slddb/) ressource to find Si SLD\n",
    "- Create a model with the correct instrument configuration and model a single magnetic layer on Si substrate.\n",
    "- Fit the layer thickness, SLD, magnetization and roughness.\n",
    "- Export the simulation as well as the SLD depth profile\n",
    "- Load the resulting data here, generate two graphs with appropriate labels and save as PNG:\n",
    "  1. Data and fit\n",
    "  2. SLD depth profile"
   ]
  },
  {
   "cell_type": "code",
   "execution_count": null,
   "id": "ec4406b6-c237-4342-aee7-2d4c6eb1febb",
   "metadata": {},
   "outputs": [],
   "source": []
  }
 ],
 "metadata": {
  "kernelspec": {
   "display_name": "Python 3 (ipykernel)",
   "language": "python",
   "name": "python3"
  },
  "language_info": {
   "codemirror_mode": {
    "name": "ipython",
    "version": 3
   },
   "file_extension": ".py",
   "mimetype": "text/x-python",
   "name": "python",
   "nbconvert_exporter": "python",
   "pygments_lexer": "ipython3",
   "version": "3.12.8"
  }
 },
 "nbformat": 4,
 "nbformat_minor": 5
}
